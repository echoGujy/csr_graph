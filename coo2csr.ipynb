{
 "cells": [
  {
   "cell_type": "code",
   "execution_count": 3,
   "metadata": {},
   "outputs": [
    {
     "data": {
      "text/plain": [
       "PygNodePropPredDataset()"
      ]
     },
     "execution_count": 3,
     "metadata": {},
     "output_type": "execute_result"
    }
   ],
   "source": [
    "from ogb.nodeproppred import PygNodePropPredDataset\n",
    "dataset = PygNodePropPredDataset(name = 'ogbn-papers100M',root=\"/hdd1/datasets_gujy/ogb_datasets/dataset/\") ## please set the root next time\n",
    "split_idx = dataset.get_idx_split()\n",
    "train_idx, valid_idx, test_idx = split_idx[\"train\"], split_idx[\"valid\"], split_idx[\"test\"]\n",
    "# graph = dataset[0]\n",
    "# graph_coo = graph.edge_index\n",
    "# print(graph_coo.shape)\n",
    "dataset"
   ]
  },
  {
   "cell_type": "code",
   "execution_count": 7,
   "metadata": {},
   "outputs": [
    {
     "name": "stdout",
     "output_type": "stream",
     "text": [
      "Data(edge_index=[2, 1615685872], x=[111059956, 128], node_year=[111059956, 1], y=[111059956, 1])\n"
     ]
    },
    {
     "data": {
      "text/plain": [
       "torch.Size([2, 1615685872])"
      ]
     },
     "execution_count": 7,
     "metadata": {},
     "output_type": "execute_result"
    }
   ],
   "source": [
    "graph = dataset[0]\n",
    "print(graph)\n",
    "graph_coo = graph.edge_index\n",
    "graph_coo.shape"
   ]
  },
  {
   "cell_type": "code",
   "execution_count": 8,
   "metadata": {},
   "outputs": [
    {
     "name": "stdout",
     "output_type": "stream",
     "text": [
      "torch.Size([2, 3228124712])\n"
     ]
    }
   ],
   "source": [
    "from torch_geometric.utils import to_undirected\n",
    "un_coo = to_undirected(graph_coo)\n",
    "print(un_coo.shape)\n"
   ]
  },
  {
   "cell_type": "code",
   "execution_count": 10,
   "metadata": {},
   "outputs": [
    {
     "name": "stdout",
     "output_type": "stream",
     "text": [
      "(111059956, 1)\n",
      "111059956\n",
      "3228124712\n"
     ]
    }
   ],
   "source": [
    "nodes = graph.y.numpy()\n",
    "# import numpy as np\n",
    "# coo = graph_coo.numpy()\n",
    "print(nodes.shape)\n",
    "# print(coo.shape)\n",
    "node_nums = nodes.shape[0]\n",
    "print(node_nums)\n",
    "edge_nums = un_coo.shape[1]\n",
    "print(edge_nums)"
   ]
  },
  {
   "cell_type": "code",
   "execution_count": 11,
   "metadata": {},
   "outputs": [
    {
     "name": "stdout",
     "output_type": "stream",
     "text": [
      "(2, 3228124712)\n"
     ]
    }
   ],
   "source": [
    "# sort the un_direct graph  maybe it is not neccessary\n",
    "import numpy as np\n",
    "coo = un_coo.numpy()\n",
    "coo_sort = coo.T[np.lexsort(coo[0,None])].T\n",
    "print(coo_sort.shape)\n",
    "# numpy format had done"
   ]
  },
  {
   "cell_type": "code",
   "execution_count": 12,
   "metadata": {},
   "outputs": [],
   "source": [
    "# write the COO\n",
    "with open('/hdd1/datasets_gujy/ogb_datasets/COO_sorted_file.txt','w') as fp:\n",
    "    fp.write(\"nodes_nums:\"+str(node_nums)+'--'+ \" \"+str(edge_nums)+'\\n')\n",
    "    for i in range(edge_nums):\n",
    "        fp.write(str(coo_sort[0,i])+' '+str(coo_sort[1,i])+' '+str(1)+'\\n')\n",
    "    fp.close()\n",
    "print(\"Sorted had done!\")\n",
    "# un_coo_np = un_coo.numpy()\n",
    "# with open('/hdd1/datasets_gujy/ogb_datasets/COO_file.txt','w') as fp:\n",
    "#     fp.write(\"nodes_nums:\"+str(node_nums)+'--'+ \" \"+str(edge_nums)+'\\n')\n",
    "#     for i in range(edge_nums):\n",
    "#         fp.write(str(coo_sort[0,i])+' '+str(coo_sort[1,i])+' '+str(1)+'\\n')\n",
    "#     fp.close()\n",
    "## the reason sort is to better count csr"
   ]
  },
  {
   "cell_type": "code",
   "execution_count": 14,
   "metadata": {},
   "outputs": [
    {
     "name": "stdout",
     "output_type": "stream",
     "text": [
      "(169344,)\n"
     ]
    },
    {
     "data": {
      "text/plain": [
       "array([  0., 291.,   2., ...,  18.,  20.,   2.])"
      ]
     },
     "execution_count": 14,
     "metadata": {},
     "output_type": "execute_result"
    }
   ],
   "source": [
    "row_index= coo_sort[0,:]\n",
    "col_index= coo_sort[1,:]\n",
    "row_offsets = np.zeros([1,node_nums+1]).reshape(-1,)\n",
    "for i in range(edge_nums):\n",
    "    row_offsets[row_index[i]+1] += 1\n",
    "print(row_offsets.shape)\n",
    "print(row_offsets)\n",
    "for i in range(1,row_offsets.shape[0]):\n",
    "    row_offsets[i] = row_offsets[i]+row_offsets[i-1]\n",
    "print(row_offsets)\n",
    "## convet to the int data\n",
    "row_offsets = row_offsets.astype(int)\n",
    "print(row_offsets)"
   ]
  },
  {
   "cell_type": "code",
   "execution_count": 18,
   "metadata": {},
   "outputs": [],
   "source": [
    "# save CSR related txt\n",
    "col = col_index.tolist()\n",
    "rf = row_offsets.tolist()\n",
    "\n",
    "with open('/hdd1/datasets_gujy/ogb_datasets/CSR/row_offsets.txt','w') as fp:\n",
    "    fp.write(\"node_nums:\"+str(node_nums)+';'+ \" edge_nums: \"+str(edge_nums)+\" the value is 1 to present connect; attention: the length of row offsets is node_length + 1\"+'\\n')\n",
    "    [fp.write(str(item)+'\\n') for  item in rf]\n",
    "    fp.close()\n",
    "with open('/hdd1/datasets_gujy/ogb_datasets/CSR/colum_index.txt','w') as fp:\n",
    "    fp.write(\"node_nums:\"+str(node_nums)+'--'+ \" edge_nums: \"+str(edge_nums)+\" the value is 1 to present connect \"+'\\n')\n",
    "    [fp.write(str(item)+' '+str(1)+'\\n') for item in col]\n",
    "    fp.close()"
   ]
  },
  {
   "cell_type": "code",
   "execution_count": null,
   "metadata": {},
   "outputs": [],
   "source": []
  }
 ],
 "metadata": {
  "interpreter": {
   "hash": "337bc84452259d7092ae1c75cf874e127d29fc57355c4ae3a2b1baf078647277"
  },
  "kernelspec": {
   "display_name": "Python 3.7.11 64-bit ('pytorchZero': conda)",
   "language": "python",
   "name": "python3"
  },
  "language_info": {
   "codemirror_mode": {
    "name": "ipython",
    "version": 3
   },
   "file_extension": ".py",
   "mimetype": "text/x-python",
   "name": "python",
   "nbconvert_exporter": "python",
   "pygments_lexer": "ipython3",
   "version": "3.7.11"
  },
  "orig_nbformat": 4
 },
 "nbformat": 4,
 "nbformat_minor": 2
}
